{
 "cells": [
  {
   "cell_type": "markdown",
   "metadata": {},
   "source": [
    "# Lesson 3 - Control Flow"
   ]
  },
  {
   "cell_type": "markdown",
   "metadata": {},
   "source": [
    "> _\"I would rather have questions that can't be answered than answers that can't be questioned.\"_ Richard P. Feynman\n",
    "\n",
    "> _\"A problem well-put is half-solved.\"_ ~ John Dewey\n",
    "\n",
    "> _\"The value of an idea lies in the using of it.\"_ Thomas A. Edison"
   ]
  },
  {
   "cell_type": "markdown",
   "metadata": {},
   "source": [
    "![aha](https://mir-s3-cdn-cf.behance.net/project_modules/1400_opt_1/29116e34486525.59fe20c7d33b9.png)\n",
    "\n",
    "**Source:** Beautiful visualization by [Behance and team](https://www.behance.net/gallery/34486525/Dataviz-Migrations)"
   ]
  },
  {
   "cell_type": "markdown",
   "metadata": {},
   "source": [
    "There are 3 essential aspects of programming that can help any data analyst understand some of the key elements of computing (solving problems), and automating processes. These are conditional statements, loops, and functions and we will be looking at all three in that order in this section.\n",
    "\n",
    "1. Conditional Statements\n",
    "2. Loops\n",
    "3. Functions"
   ]
  },
  {
   "cell_type": "markdown",
   "metadata": {},
   "source": [
    "# 1 Conditional Statements"
   ]
  },
  {
   "cell_type": "markdown",
   "metadata": {},
   "source": [
    "Conditional stamenets, or, as they are often called, if-then statements, allow us to provide our commands and programs with specific criteria in order to do what they have been told to do. If-then statements work alogside booleans, which were first introduced earlier in the lesson and are abstractions of instructions or commands that evaluate to `True` or `False`. They allow us to compare statements, expressions, objects, etc., and perform specific actions given the boolean evaluation. Essentially give us back 👍🏼 or a 👎🏼 when they finish.\n",
    "\n",
    "Here are the symbols for boolean operations again.\n",
    "\n",
    "\n",
    "| Symbol | Functionality |\n",
    "|------|-----------------|\n",
    "| == | exactly equal to |\n",
    "| > | greater than |\n",
    "| < | less than |\n",
    "| >= | greater than or equal to |\n",
    "| <= | less than or equal to |\n",
    "| != | not equal to |"
   ]
  },
  {
   "cell_type": "code",
   "execution_count": 1,
   "metadata": {},
   "outputs": [
    {
     "data": {
      "text/plain": [
       "False"
      ]
     },
     "execution_count": 1,
     "metadata": {},
     "output_type": "execute_result"
    }
   ],
   "source": [
    "13 == 15"
   ]
  },
  {
   "cell_type": "code",
   "execution_count": 2,
   "metadata": {},
   "outputs": [
    {
     "data": {
      "text/plain": [
       "True"
      ]
     },
     "execution_count": 2,
     "metadata": {},
     "output_type": "execute_result"
    }
   ],
   "source": [
    "13 < 15"
   ]
  },
  {
   "cell_type": "markdown",
   "metadata": {},
   "source": [
    "Different data types can also be compare with each other but notice that this will almost alway evaluate to false since different data types can never be equal. For example:"
   ]
  },
  {
   "cell_type": "code",
   "execution_count": 3,
   "metadata": {},
   "outputs": [
    {
     "data": {
      "text/plain": [
       "False"
      ]
     },
     "execution_count": 3,
     "metadata": {},
     "output_type": "execute_result"
    }
   ],
   "source": [
    "5 == 5.7 # int vs float"
   ]
  },
  {
   "cell_type": "code",
   "execution_count": 4,
   "metadata": {},
   "outputs": [
    {
     "data": {
      "text/plain": [
       "False"
      ]
     },
     "execution_count": 4,
     "metadata": {},
     "output_type": "execute_result"
    }
   ],
   "source": [
    "5 == '5' # in vs string"
   ]
  },
  {
   "cell_type": "markdown",
   "metadata": {},
   "source": [
    "You can also think of boolean operations as expressions that can reduce large computations, such as a comparison of two formulas, to a single True or False value (e.g. yes, this is okay, no, this is not okay).\n",
    "\n",
    "Booleans can also be compared with the following words and symbols: `and`, `or`, `not`, `&`, and `|`. The last two symbols are the equivalent of `and` and `or`, and the `not` operator negates everything. If something is `not True`, then we know it must be `False`."
   ]
  },
  {
   "cell_type": "code",
   "execution_count": null,
   "metadata": {},
   "outputs": [],
   "source": [
    "True | True"
   ]
  },
  {
   "cell_type": "code",
   "execution_count": null,
   "metadata": {},
   "outputs": [],
   "source": [
    "False & False"
   ]
  },
  {
   "cell_type": "code",
   "execution_count": null,
   "metadata": {},
   "outputs": [],
   "source": [
    "not True"
   ]
  },
  {
   "cell_type": "code",
   "execution_count": null,
   "metadata": {},
   "outputs": [],
   "source": [
    "not False"
   ]
  },
  {
   "cell_type": "markdown",
   "metadata": {},
   "source": [
    "To compare expressions it is useful to use parentheses around each expression you are comparing. For example:"
   ]
  },
  {
   "cell_type": "code",
   "execution_count": null,
   "metadata": {},
   "outputs": [],
   "source": [
    "(110 >= 25) and (34 < 57)"
   ]
  },
  {
   "cell_type": "code",
   "execution_count": null,
   "metadata": {},
   "outputs": [],
   "source": [
    "110 >= 25 and 34 < 57"
   ]
  },
  {
   "cell_type": "markdown",
   "metadata": {},
   "source": [
    "Now that we know that boolean evaluations can be treated as conditions that are reduced to True or False, or 0 and 1, respectively, we can combine them with if-then statements to test things as we go. Let's have a look at our first example."
   ]
  },
  {
   "cell_type": "code",
   "execution_count": 6,
   "metadata": {},
   "outputs": [
    {
     "name": "stdout",
     "output_type": "stream",
     "text": [
      "Wow, Mia, you are half way to 50!\n"
     ]
    }
   ],
   "source": [
    "friend = 'Mia'\n",
    "age = 25\n",
    "\n",
    "if age == 25:\n",
    "    print(f\"Wow, {friend}, you are half way to 50!\")"
   ]
  },
  {
   "cell_type": "markdown",
   "metadata": {},
   "source": [
    "Since the stamemnt above was True, it evaluated the condition correctly and printed out what we wanted without any issues. What would have happened if the condition would have been False? Let's check that out.\n",
    "\n",
    "Note that `if` statements have to end with a `:` and continue to a 4-space indented line in order to work. The indentation happens automatically after you insert the `:` and press Enter."
   ]
  },
  {
   "cell_type": "code",
   "execution_count": 31,
   "metadata": {},
   "outputs": [],
   "source": [
    "if age == 20:\n",
    "    print(f\"Wow, {friend}, you are half way to 50!\")"
   ]
  },
  {
   "cell_type": "code",
   "execution_count": null,
   "metadata": {},
   "outputs": [],
   "source": [
    "As you can see, nothing happens with the statement. Since it was false, nothing was evaluated. Here is where the `else` statement comes into play. If we want our expression to do something else in the event the first condition was not `True`, we can add `else` and another condition in the same fashion."
   ]
  },
  {
   "cell_type": "code",
   "execution_count": 18,
   "metadata": {},
   "outputs": [
    {
     "name": "stdout",
     "output_type": "stream",
     "text": [
      "She is not that age.\n"
     ]
    }
   ],
   "source": [
    "if age == 20:\n",
    "    print(f\"Wow, {friend}, you are half way to 50!\")\n",
    "else:\n",
    "    print(\"She is not that age.\")"
   ]
  },
  {
   "cell_type": "markdown",
   "metadata": {},
   "source": [
    "# Exercise 1\n",
    "\n",
    "Come up with any two `if-else` statements you want. **Hint:** Think of all of the things that you do before leaving your house to get together with a friend, to go to work, to the gym, etc..."
   ]
  },
  {
   "cell_type": "code",
   "execution_count": 37,
   "metadata": {},
   "outputs": [
    {
     "name": "stdout",
     "output_type": "stream",
     "text": [
      "today i will stay at home and not run as it is raining\n"
     ]
    }
   ],
   "source": [
    "# first if-else\n",
    "weather = 'raining'\n",
    "exercise = 'run'\n",
    "\n",
    "if weather == 'sunny':\n",
    "    print(f'today i will go for a {exercise} as it is {weather}')\n",
    "else:       \n",
    "    print(f'today i will stay at home and not {exercise} as it is {weather}')"
   ]
  },
  {
   "cell_type": "code",
   "execution_count": 41,
   "metadata": {},
   "outputs": [
    {
     "name": "stdout",
     "output_type": "stream",
     "text": [
      "stay at home\n"
     ]
    }
   ],
   "source": [
    "# first if-else\n",
    "exercise = 'run'\n",
    "weather = 'rain'\n",
    "\n",
    "if weather == 'sunny':\n",
    "    print(f'today i will go for a {exercise}')\n",
    "else: \n",
    "    print(f'stay at home')"
   ]
  },
  {
   "cell_type": "code",
   "execution_count": null,
   "metadata": {},
   "outputs": [],
   "source": [
    "# second if-else\n"
   ]
  },
  {
   "cell_type": "code",
   "execution_count": null,
   "metadata": {},
   "outputs": [],
   "source": []
  },
  {
   "cell_type": "code",
   "execution_count": 1,
   "metadata": {},
   "outputs": [
    {
     "name": "stdout",
     "output_type": "stream",
     "text": [
      "welcome to America\n"
     ]
    }
   ],
   "source": [
    "# notes from beginnersbook.com\n",
    "flag = True\n",
    "if flag ==True:\n",
    "    print(\"welcome to America\")"
   ]
  },
  {
   "cell_type": "code",
   "execution_count": 3,
   "metadata": {},
   "outputs": [
    {
     "name": "stdout",
     "output_type": "stream",
     "text": [
      "Lineal champion of the world\n"
     ]
    }
   ],
   "source": [
    "flag = True\n",
    "if flag:\n",
    "    print(\"Lineal champion of the world\")"
   ]
  },
  {
   "cell_type": "code",
   "execution_count": 6,
   "metadata": {},
   "outputs": [
    {
     "name": "stdout",
     "output_type": "stream",
     "text": [
      "100 is less than 200\n"
     ]
    }
   ],
   "source": [
    "num = 100\n",
    "if num < 200:\n",
    "    print(f\"{num} is less than 200\")"
   ]
  },
  {
   "cell_type": "code",
   "execution_count": null,
   "metadata": {},
   "outputs": [],
   "source": []
  },
  {
   "cell_type": "code",
   "execution_count": 7,
   "metadata": {},
   "outputs": [
    {
     "name": "stdout",
     "output_type": "stream",
     "text": [
      "Even Number\n"
     ]
    }
   ],
   "source": [
    "num = 22\n",
    "if num % 2 == 0:\n",
    "    print(\"Even Number\")\n",
    "else:\n",
    "    print(\"odd number\")\n"
   ]
  },
  {
   "cell_type": "code",
   "execution_count": null,
   "metadata": {},
   "outputs": [],
   "source": []
  },
  {
   "cell_type": "code",
   "execution_count": 11,
   "metadata": {},
   "outputs": [
    {
     "name": "stdout",
     "output_type": "stream",
     "text": [
      "number is <= 9 or >= 9999\n"
     ]
    }
   ],
   "source": [
    "num = 34567\n",
    "if 9 < num < 99:\n",
    "    print(\"two digit number\")\n",
    "if 99 < num < 999:\n",
    "    print(\"three digit number\")\n",
    "if 999 < num < 9999:\n",
    "    print(\"four digit number\")\n",
    "else:\n",
    "    print(\"number is <= 9 or >= 9999\")"
   ]
  },
  {
   "cell_type": "code",
   "execution_count": null,
   "metadata": {},
   "outputs": [],
   "source": []
  },
  {
   "cell_type": "code",
   "execution_count": 15,
   "metadata": {},
   "outputs": [
    {
     "name": "stdout",
     "output_type": "stream",
     "text": [
      "negative number\n",
      "Two digit negative number\n"
     ]
    }
   ],
   "source": [
    "num = -1\n",
    "if num > 0:\n",
    "    print(\"Positive Number\")\n",
    "else:\n",
    "    print(\"negative number\")\n",
    "if -99<=num & num<0:\n",
    "    print(\"Two digit negative number\")\n",
    "        "
   ]
  },
  {
   "cell_type": "code",
   "execution_count": null,
   "metadata": {},
   "outputs": [],
   "source": []
  },
  {
   "cell_type": "code",
   "execution_count": null,
   "metadata": {},
   "outputs": [],
   "source": []
  },
  {
   "cell_type": "code",
   "execution_count": null,
   "metadata": {},
   "outputs": [],
   "source": []
  },
  {
   "cell_type": "markdown",
   "metadata": {},
   "source": [
    "# 2 Loops"
   ]
  },
  {
   "cell_type": "markdown",
   "metadata": {},
   "source": [
    "Loops are one of the most useful tools in any programming language. They allow us to execute commands repeatedly given a criterion or set of instruction, and this functionality is what most often than not, helps us automate from the most mundane to the most complex a task we might encounter.\n",
    "\n",
    "There are different loops one can use in Python but we will focus on `for` loops today. Let's take a look at an example now."
   ]
  },
  {
   "cell_type": "code",
   "execution_count": 42,
   "metadata": {},
   "outputs": [
    {
     "name": "stdout",
     "output_type": "stream",
     "text": [
      "This is number 1\n",
      "This is number 2\n",
      "This is number 3\n",
      "This is number 4\n",
      "This is number 5\n"
     ]
    }
   ],
   "source": [
    "for a_number in [1, 2, 3, 4, 5]:\n",
    "    print(f\"This is number {a_number}\")"
   ]
  },
  {
   "cell_type": "markdown",
   "metadata": {},
   "source": [
    "Let's break down what just happened.\n",
    "\n",
    "1. The `for` command tells Python a loop is about to take place.\n",
    "2. The variable `a_number` can be any word we want to call it. It is a temporary nickname for the item that will be doing things repeadately.\n",
    "3. The `in` statement let's Python know where the data the temporary variable `a_number` will represent is at.\n",
    "4. The `[1, 2, 3, 4, 5]` list can be a variable, a function, a group of words, anything we can iterate over.\n",
    "5. The `:` is extremely important, it tells Python that we are about to give it the instructions for our loop. It is very important to note that after we press `Enter`, the next line is exactly 4 spaces away from the edge, if we don't have the following statements at this distance, Python will not do anything with the loop.\n",
    "6. The last bit is the instructions we want our loop to do repeatadely. In our case, we want it to `print()` each of the numbers in the list we have provided the loop with.\n",
    "\n",
    "The loop will continue until it has gone through every element in the list (5 in the example above). It is very important to understand when our loop will stop or how many times the loop will cruise through the elements we provided.\n",
    "\n",
    "Let's go over a few more examples."
   ]
  },
  {
   "cell_type": "code",
   "execution_count": 43,
   "metadata": {},
   "outputs": [
    {
     "name": "stdout",
     "output_type": "stream",
     "text": [
      "h\n",
      "i\n",
      " \n",
      "t\n",
      "h\n",
      "e\n",
      "r\n",
      "e\n"
     ]
    }
   ],
   "source": [
    "for letter in \"hi there\":\n",
    "    print(letter)"
   ]
  },
  {
   "cell_type": "markdown",
   "metadata": {},
   "source": [
    "If you would like to print the statements in the same line, you can add an `, end=''` at the end of your print function."
   ]
  },
  {
   "cell_type": "code",
   "execution_count": 44,
   "metadata": {},
   "outputs": [
    {
     "name": "stdout",
     "output_type": "stream",
     "text": [
      "hi there"
     ]
    }
   ],
   "source": [
    "for letter in \"hi there\":\n",
    "    print(letter, end='')"
   ]
  },
  {
   "cell_type": "code",
   "execution_count": 45,
   "metadata": {},
   "outputs": [
    {
     "name": "stdout",
     "output_type": "stream",
     "text": [
      "0\n",
      "1\n",
      "2\n",
      "3\n",
      "4\n",
      "5\n",
      "6\n",
      "7\n",
      "8\n",
      "9\n"
     ]
    }
   ],
   "source": [
    "for number in range(10): # the function range \n",
    "    print(number)"
   ]
  },
  {
   "cell_type": "markdown",
   "metadata": {},
   "source": [
    "We can also use loops to create new data structures. For example, a common thing to do in Python is to create an empty list and fill up with data given a criterion. Let's walk over an example together."
   ]
  },
  {
   "cell_type": "code",
   "execution_count": 50,
   "metadata": {},
   "outputs": [
    {
     "name": "stdout",
     "output_type": "stream",
     "text": [
      "[0, 1, 4, 9, 16, 25, 36, 49, 64, 81, 100, 121, 144, 169, 196, 225, 256, 289, 324, 361]\n"
     ]
    }
   ],
   "source": [
    "some_list = [] # first create an empty list\n",
    "\n",
    "for number in range(20): # initiate your loop\n",
    "    some_list.append(number ** 2) # append each number from 0 to 19 (aka 20) to the list\n",
    "    \n",
    "\n",
    "# this statement is not part of your loop\n",
    "print(some_list) # check the list"
   ]
  },
  {
   "cell_type": "code",
   "execution_count": 52,
   "metadata": {},
   "outputs": [],
   "source": [
    "some_list_2=[]"
   ]
  },
  {
   "cell_type": "code",
   "execution_count": 58,
   "metadata": {},
   "outputs": [
    {
     "name": "stdout",
     "output_type": "stream",
     "text": [
      "[50, 52, 54, 56, 58, 60, 62, 64, 66, 68, 70, 72, 74, 76, 78, 80, 82, 84, 86, 88, 90, 92, 94, 96, 98, 50, 52, 54, 56, 58, 60, 62, 64, 66, 68, 70, 72, 74, 76, 78, 80, 82, 84, 86, 88, 90, 92, 94, 96, 98, 50, 52, 54, 56, 58, 60, 62, 64, 66, 68, 70, 72, 74, 76, 78, 80, 82, 84, 86, 88, 90, 92, 94, 96, 98, 50, 52, 54, 56, 58, 60, 62, 64, 66, 68, 70, 72, 74, 76, 78, 80, 82, 84, 86, 88, 90, 92, 94, 96, 98, 50, 52, 54, 56, 58, 60, 62, 64, 66, 68, 70, 72, 74, 76, 78, 80, 82, 84, 86, 88, 90, 92, 94, 96, 98]\n"
     ]
    }
   ],
   "source": [
    "for some_number in range(50,100,2):\n",
    "    some_list_2.append(some_number)\n",
    "print(some_list_2)"
   ]
  },
  {
   "cell_type": "code",
   "execution_count": null,
   "metadata": {},
   "outputs": [],
   "source": []
  },
  {
   "cell_type": "code",
   "execution_count": 16,
   "metadata": {},
   "outputs": [
    {
     "name": "stdout",
     "output_type": "stream",
     "text": [
      "1\n",
      "4\n",
      "9\n",
      "36\n",
      "64\n",
      "81\n"
     ]
    }
   ],
   "source": [
    "#print squares of all numbers in a list\n",
    "numbers = [1,2,3,6,8,9]\n",
    "#variable to store the squarew of eaach number temporarily\n",
    "sq = 0\n",
    "#iterating over the list\n",
    "for val in numbers:\n",
    "    # calc sq of each number\n",
    "    sq = val * val\n",
    "    print(sq)"
   ]
  },
  {
   "cell_type": "code",
   "execution_count": null,
   "metadata": {},
   "outputs": [],
   "source": []
  },
  {
   "cell_type": "code",
   "execution_count": 24,
   "metadata": {},
   "outputs": [
    {
     "name": "stdout",
     "output_type": "stream",
     "text": [
      "0\n",
      "2\n",
      "4\n",
      "6\n"
     ]
    }
   ],
   "source": [
    "for num in range(0,8,2):\n",
    "    print(num)"
   ]
  },
  {
   "cell_type": "code",
   "execution_count": null,
   "metadata": {},
   "outputs": [],
   "source": []
  },
  {
   "cell_type": "code",
   "execution_count": 27,
   "metadata": {},
   "outputs": [
    {
     "name": "stdout",
     "output_type": "stream",
     "text": [
      "1\n",
      "3\n",
      "6\n",
      "10\n",
      "15\n"
     ]
    }
   ],
   "source": [
    "sum = 0\n",
    "for val in range(1,6):\n",
    "    sum = sum + val\n",
    "    print(sum)"
   ]
  },
  {
   "cell_type": "code",
   "execution_count": null,
   "metadata": {},
   "outputs": [],
   "source": []
  },
  {
   "cell_type": "code",
   "execution_count": 28,
   "metadata": {},
   "outputs": [
    {
     "name": "stdout",
     "output_type": "stream",
     "text": [
      "0\n",
      "1\n",
      "2\n",
      "3\n",
      "4\n",
      "the loop is done\n"
     ]
    }
   ],
   "source": [
    "for val in range(5):\n",
    "    print(val)\n",
    "else:\n",
    "    print(\"the loop is done\")"
   ]
  },
  {
   "cell_type": "code",
   "execution_count": null,
   "metadata": {},
   "outputs": [],
   "source": []
  },
  {
   "cell_type": "code",
   "execution_count": null,
   "metadata": {},
   "outputs": [],
   "source": []
  },
  {
   "cell_type": "code",
   "execution_count": null,
   "metadata": {},
   "outputs": [],
   "source": []
  },
  {
   "cell_type": "code",
   "execution_count": null,
   "metadata": {},
   "outputs": [
    {
     "name": "stdout",
     "output_type": "stream",
     "text": [
      "\n",
      "Welcome to Python 3.8's help utility!\n",
      "\n",
      "If this is your first time using Python, you should definitely check out\n",
      "the tutorial on the Internet at https://docs.python.org/3.8/tutorial/.\n",
      "\n",
      "Enter the name of any module, keyword, or topic to get help on writing\n",
      "Python programs and using Python modules.  To quit this help utility and\n",
      "return to the interpreter, just type \"quit\".\n",
      "\n",
      "To get a list of available modules, keywords, symbols, or topics, type\n",
      "\"modules\", \"keywords\", \"symbols\", or \"topics\".  Each module also comes\n",
      "with a one-line summary of what it does; to list the modules whose name\n",
      "or summary contain a given string such as \"spam\", type \"modules spam\".\n",
      "\n"
     ]
    },
    {
     "name": "stdin",
     "output_type": "stream",
     "text": [
      "help>  import\n"
     ]
    },
    {
     "name": "stdout",
     "output_type": "stream",
     "text": [
      "The \"import\" statement\n",
      "**********************\n",
      "\n",
      "   import_stmt     ::= \"import\" module [\"as\" identifier] (\",\" module [\"as\" identifier])*\n",
      "                   | \"from\" relative_module \"import\" identifier [\"as\" identifier]\n",
      "                   (\",\" identifier [\"as\" identifier])*\n",
      "                   | \"from\" relative_module \"import\" \"(\" identifier [\"as\" identifier]\n",
      "                   (\",\" identifier [\"as\" identifier])* [\",\"] \")\"\n",
      "                   | \"from\" module \"import\" \"*\"\n",
      "   module          ::= (identifier \".\")* identifier\n",
      "   relative_module ::= \".\"* module | \".\"+\n",
      "\n",
      "The basic import statement (no \"from\" clause) is executed in two\n",
      "steps:\n",
      "\n",
      "1. find a module, loading and initializing it if necessary\n",
      "\n",
      "2. define a name or names in the local namespace for the scope\n",
      "   where the \"import\" statement occurs.\n",
      "\n",
      "When the statement contains multiple clauses (separated by commas) the\n",
      "two steps are carried out separately for each clause, just as though\n",
      "the clauses had been separated out into individual import statements.\n",
      "\n",
      "The details of the first step, finding and loading modules are\n",
      "described in greater detail in the section on the import system, which\n",
      "also describes the various types of packages and modules that can be\n",
      "imported, as well as all the hooks that can be used to customize the\n",
      "import system. Note that failures in this step may indicate either\n",
      "that the module could not be located, *or* that an error occurred\n",
      "while initializing the module, which includes execution of the\n",
      "module’s code.\n",
      "\n",
      "If the requested module is retrieved successfully, it will be made\n",
      "available in the local namespace in one of three ways:\n",
      "\n",
      "* If the module name is followed by \"as\", then the name following\n",
      "  \"as\" is bound directly to the imported module.\n",
      "\n",
      "* If no other name is specified, and the module being imported is a\n",
      "  top level module, the module’s name is bound in the local namespace\n",
      "  as a reference to the imported module\n",
      "\n",
      "* If the module being imported is *not* a top level module, then the\n",
      "  name of the top level package that contains the module is bound in\n",
      "  the local namespace as a reference to the top level package. The\n",
      "  imported module must be accessed using its full qualified name\n",
      "  rather than directly\n",
      "\n",
      "The \"from\" form uses a slightly more complex process:\n",
      "\n",
      "1. find the module specified in the \"from\" clause, loading and\n",
      "   initializing it if necessary;\n",
      "\n",
      "2. for each of the identifiers specified in the \"import\" clauses:\n",
      "\n",
      "   1. check if the imported module has an attribute by that name\n",
      "\n",
      "   2. if not, attempt to import a submodule with that name and then\n",
      "      check the imported module again for that attribute\n",
      "\n",
      "   3. if the attribute is not found, \"ImportError\" is raised.\n",
      "\n",
      "   4. otherwise, a reference to that value is stored in the local\n",
      "      namespace, using the name in the \"as\" clause if it is present,\n",
      "      otherwise using the attribute name\n",
      "\n",
      "Examples:\n",
      "\n",
      "   import foo                 # foo imported and bound locally\n",
      "   import foo.bar.baz         # foo.bar.baz imported, foo bound locally\n",
      "   import foo.bar.baz as fbb  # foo.bar.baz imported and bound as fbb\n",
      "   from foo.bar import baz    # foo.bar.baz imported and bound as baz\n",
      "   from foo import attr       # foo imported and foo.attr bound as attr\n",
      "\n",
      "If the list of identifiers is replaced by a star (\"'*'\"), all public\n",
      "names defined in the module are bound in the local namespace for the\n",
      "scope where the \"import\" statement occurs.\n",
      "\n",
      "The *public names* defined by a module are determined by checking the\n",
      "module’s namespace for a variable named \"__all__\"; if defined, it must\n",
      "be a sequence of strings which are names defined or imported by that\n",
      "module.  The names given in \"__all__\" are all considered public and\n",
      "are required to exist.  If \"__all__\" is not defined, the set of public\n",
      "names includes all names found in the module’s namespace which do not\n",
      "begin with an underscore character (\"'_'\").  \"__all__\" should contain\n",
      "the entire public API. It is intended to avoid accidentally exporting\n",
      "items that are not part of the API (such as library modules which were\n",
      "imported and used within the module).\n",
      "\n",
      "The wild card form of import — \"from module import *\" — is only\n",
      "allowed at the module level.  Attempting to use it in class or\n",
      "function definitions will raise a \"SyntaxError\".\n",
      "\n",
      "When specifying what module to import you do not have to specify the\n",
      "absolute name of the module. When a module or package is contained\n",
      "within another package it is possible to make a relative import within\n",
      "the same top package without having to mention the package name. By\n",
      "using leading dots in the specified module or package after \"from\" you\n",
      "can specify how high to traverse up the current package hierarchy\n",
      "without specifying exact names. One leading dot means the current\n",
      "package where the module making the import exists. Two dots means up\n",
      "one package level. Three dots is up two levels, etc. So if you execute\n",
      "\"from . import mod\" from a module in the \"pkg\" package then you will\n",
      "end up importing \"pkg.mod\". If you execute \"from ..subpkg2 import mod\"\n",
      "from within \"pkg.subpkg1\" you will import \"pkg.subpkg2.mod\". The\n",
      "specification for relative imports is contained in the Package\n",
      "Relative Imports section.\n",
      "\n",
      "\"importlib.import_module()\" is provided to support applications that\n",
      "determine dynamically the modules to be loaded.\n",
      "\n",
      "Raises an auditing event \"import\" with arguments \"module\", \"filename\",\n",
      "\"sys.path\", \"sys.meta_path\", \"sys.path_hooks\".\n",
      "\n",
      "\n",
      "Future statements\n",
      "=================\n",
      "\n",
      "A *future statement* is a directive to the compiler that a particular\n",
      "module should be compiled using syntax or semantics that will be\n",
      "available in a specified future release of Python where the feature\n",
      "becomes standard.\n",
      "\n",
      "The future statement is intended to ease migration to future versions\n",
      "of Python that introduce incompatible changes to the language.  It\n",
      "allows use of the new features on a per-module basis before the\n",
      "release in which the feature becomes standard.\n",
      "\n",
      "   future_stmt ::= \"from\" \"__future__\" \"import\" feature [\"as\" identifier]\n",
      "                   (\",\" feature [\"as\" identifier])*\n",
      "                   | \"from\" \"__future__\" \"import\" \"(\" feature [\"as\" identifier]\n",
      "                   (\",\" feature [\"as\" identifier])* [\",\"] \")\"\n",
      "   feature     ::= identifier\n",
      "\n",
      "A future statement must appear near the top of the module.  The only\n",
      "lines that can appear before a future statement are:\n",
      "\n",
      "* the module docstring (if any),\n",
      "\n",
      "* comments,\n",
      "\n",
      "* blank lines, and\n",
      "\n",
      "* other future statements.\n",
      "\n",
      "The only feature in Python 3.7 that requires using the future\n",
      "statement is \"annotations\".\n",
      "\n",
      "All historical features enabled by the future statement are still\n",
      "recognized by Python 3.  The list includes \"absolute_import\",\n",
      "\"division\", \"generators\", \"generator_stop\", \"unicode_literals\",\n",
      "\"print_function\", \"nested_scopes\" and \"with_statement\".  They are all\n",
      "redundant because they are always enabled, and only kept for backwards\n",
      "compatibility.\n",
      "\n",
      "A future statement is recognized and treated specially at compile\n",
      "time: Changes to the semantics of core constructs are often\n",
      "implemented by generating different code.  It may even be the case\n",
      "that a new feature introduces new incompatible syntax (such as a new\n",
      "reserved word), in which case the compiler may need to parse the\n",
      "module differently.  Such decisions cannot be pushed off until\n",
      "runtime.\n",
      "\n",
      "For any given release, the compiler knows which feature names have\n",
      "been defined, and raises a compile-time error if a future statement\n",
      "contains a feature not known to it.\n",
      "\n",
      "The direct runtime semantics are the same as for any import statement:\n",
      "there is a standard module \"__future__\", described later, and it will\n",
      "be imported in the usual way at the time the future statement is\n",
      "executed.\n",
      "\n",
      "The interesting runtime semantics depend on the specific feature\n",
      "enabled by the future statement.\n",
      "\n",
      "Note that there is nothing special about the statement:\n",
      "\n",
      "   import __future__ [as name]\n",
      "\n",
      "That is not a future statement; it’s an ordinary import statement with\n",
      "no special semantics or syntax restrictions.\n",
      "\n",
      "Code compiled by calls to the built-in functions \"exec()\" and\n",
      "\"compile()\" that occur in a module \"M\" containing a future statement\n",
      "will, by default, use the new syntax or semantics associated with the\n",
      "future statement.  This can be controlled by optional arguments to\n",
      "\"compile()\" — see the documentation of that function for details.\n",
      "\n",
      "A future statement typed at an interactive interpreter prompt will\n",
      "take effect for the rest of the interpreter session.  If an\n",
      "interpreter is started with the \"-i\" option, is passed a script name\n",
      "to execute, and the script includes a future statement, it will be in\n",
      "effect in the interactive session started after the script is\n",
      "executed.\n",
      "\n",
      "See also:\n",
      "\n",
      "  **PEP 236** - Back to the __future__\n",
      "     The original proposal for the __future__ mechanism.\n",
      "\n",
      "Related help topics: MODULES\n",
      "\n"
     ]
    }
   ],
   "source": [
    "help()"
   ]
  },
  {
   "cell_type": "code",
   "execution_count": null,
   "metadata": {},
   "outputs": [],
   "source": []
  },
  {
   "cell_type": "code",
   "execution_count": null,
   "metadata": {},
   "outputs": [],
   "source": []
  },
  {
   "cell_type": "markdown",
   "metadata": {},
   "source": [
    "We will continue revisiting loops in every lesson, and every single week, so by the end of the course you will be a looping wizzard! :)"
   ]
  },
  {
   "cell_type": "markdown",
   "metadata": {},
   "source": [
    "# 3 Functions"
   ]
  },
  {
   "cell_type": "markdown",
   "metadata": {},
   "source": [
    "Functions can be thought of as the encapsulation of instructions or a command. When we want to create new data types, or simply modify an existing one, we don't want to do that process manually every single time. This is one aspect of programming where functions come in very handy.\n",
    "\n",
    "You have already seen and used different functions throughout this lesson. For example, `print()` and `len()` are functions that already come with Python and thus don't require that we create them from scratch every single time we need them.\n",
    "\n",
    "Other functions, which are technically not called functions but behave as such, are called methods. Earlier when you called the `.append()` on a list object inside a loop, you were calling a method that belongs to the data structure list. The difference between regular functions and methods, is that the former can be applied to any object for which the function would do somethig useful and reasonable for, while the latter is called on an object and usually modifies that object given a set of parameters.\n",
    "\n",
    "Functions can be created with the word `def`, which implies `define`, followed by the name of your function, parentheses `()`, arguments or no arguments, a colon `:`, and the instructions you would like to save. Let's look at some examples together."
   ]
  },
  {
   "cell_type": "code",
   "execution_count": 60,
   "metadata": {},
   "outputs": [],
   "source": [
    "# First we start the command with def\n",
    "# We then name our function sum_numbers\n",
    "def sum_numbers(x, y): # we add some parameters inside the parentheses and close with a colon\n",
    "    return x + y # we add and return the two values"
   ]
  },
  {
   "cell_type": "markdown",
   "metadata": {},
   "source": [
    "Now that we have create our function, and we know it can take any two parameters, let's test it out with some numbers."
   ]
  },
  {
   "cell_type": "code",
   "execution_count": 62,
   "metadata": {},
   "outputs": [
    {
     "data": {
      "text/plain": [
       "8"
      ]
     },
     "execution_count": 62,
     "metadata": {},
     "output_type": "execute_result"
    }
   ],
   "source": [
    "sum_numbers(5, 3)"
   ]
  },
  {
   "cell_type": "code",
   "execution_count": null,
   "metadata": {},
   "outputs": [],
   "source": [
    "def subtract(a, b):\n",
    "    return a - b"
   ]
  },
  {
   "cell_type": "code",
   "execution_count": null,
   "metadata": {},
   "outputs": [],
   "source": [
    "subtract(10, 6)"
   ]
  },
  {
   "cell_type": "code",
   "execution_count": 63,
   "metadata": {},
   "outputs": [],
   "source": [
    "def print_full_names(firstname, lastname):\n",
    "    print(f\"My first name is {firstname} and my last name is {lastname}.\")"
   ]
  },
  {
   "cell_type": "code",
   "execution_count": 64,
   "metadata": {},
   "outputs": [
    {
     "name": "stdout",
     "output_type": "stream",
     "text": [
      "My first name is Ramon and my last name is Perez.\n"
     ]
    }
   ],
   "source": [
    "print_full_names('Ramon', 'Perez')"
   ]
  },
  {
   "cell_type": "code",
   "execution_count": null,
   "metadata": {},
   "outputs": [],
   "source": []
  },
  {
   "cell_type": "code",
   "execution_count": 65,
   "metadata": {},
   "outputs": [],
   "source": [
    "def facts_check():\n",
    "    print(\"aus number 1\")\n",
    "    print(\"Qlder\")\n",
    "    print(\"HOw do i?\")"
   ]
  },
  {
   "cell_type": "code",
   "execution_count": 66,
   "metadata": {},
   "outputs": [
    {
     "name": "stdout",
     "output_type": "stream",
     "text": [
      "aus number 1\n",
      "Qlder\n",
      "HOw do i?\n"
     ]
    }
   ],
   "source": [
    "facts_check()"
   ]
  },
  {
   "cell_type": "code",
   "execution_count": null,
   "metadata": {},
   "outputs": [],
   "source": []
  },
  {
   "cell_type": "code",
   "execution_count": 91,
   "metadata": {},
   "outputs": [],
   "source": [
    "def multiply(w, e, t):\n",
    "    \"\"\"\n",
    "    this function takes three arguments w, e, and t and multiples them together\n",
    "    \"\"\"\n",
    "    temp_variable = w * e * t\n",
    "    \n",
    "    return temp_variable\n",
    "    "
   ]
  },
  {
   "cell_type": "code",
   "execution_count": 92,
   "metadata": {},
   "outputs": [
    {
     "data": {
      "text/plain": [
       "221544"
      ]
     },
     "execution_count": 92,
     "metadata": {},
     "output_type": "execute_result"
    }
   ],
   "source": [
    "multiply(12, 34, 543)\n"
   ]
  },
  {
   "cell_type": "code",
   "execution_count": 97,
   "metadata": {},
   "outputs": [],
   "source": [
    "def print_your_name(first, last=None):\n",
    "    if last == None:\n",
    "        print (f\"hello {first}, get a job\")\n",
    "    else:\n",
    "        print(f\"hi {first}, your lastname is {last}\")"
   ]
  },
  {
   "cell_type": "code",
   "execution_count": 98,
   "metadata": {},
   "outputs": [
    {
     "name": "stdout",
     "output_type": "stream",
     "text": [
      "hello Wally, get a job\n"
     ]
    }
   ],
   "source": [
    "print_your_name(\"Wally\")"
   ]
  },
  {
   "cell_type": "code",
   "execution_count": 104,
   "metadata": {},
   "outputs": [
    {
     "name": "stdout",
     "output_type": "stream",
     "text": [
      "hi Wally, your lastname is Lewis\n"
     ]
    }
   ],
   "source": [
    "print_your_name(first=\"Wally\", last=\"Lewis\")"
   ]
  },
  {
   "cell_type": "code",
   "execution_count": null,
   "metadata": {},
   "outputs": [],
   "source": []
  },
  {
   "cell_type": "code",
   "execution_count": null,
   "metadata": {},
   "outputs": [],
   "source": [
    "# learning from beginnersbook.com\n",
    "def add(num1, num2):\n",
    "    return num1 + num2\n",
    "\n",
    "sum1 = add(100,200)\n",
    "sum2 = add(8,9)\n",
    "print(sum1)\n",
    "print(sum2)\n"
   ]
  },
  {
   "cell_type": "code",
   "execution_count": null,
   "metadata": {},
   "outputs": [],
   "source": []
  },
  {
   "cell_type": "markdown",
   "metadata": {},
   "source": [
    "It worked as intended and we now have a sense of how we can begin automating repetitive tasks. Loops help us do things repeatadely, if-else staments allow us to apply logical conditions to our code, and functions help us reuse code more efficiently.\n",
    "\n",
    "This was just a brief introduction of all three concepts. You will be using them all throughout this course."
   ]
  },
  {
   "cell_type": "markdown",
   "metadata": {},
   "source": [
    "# 4 Summary"
   ]
  },
  {
   "cell_type": "markdown",
   "metadata": {},
   "source": [
    "You have learned a great deal today and should be proud of your accomplishments. Let's recap what we have seen thus far.\n",
    "\n",
    "1. Doing something repeatadely is called a loop.\n",
    "2. Creating logical conditions to evaluate different arguments, can be accomplished with if-then statements.\n",
    "3. Instead of writing code over and over again, we can put our code into functions for reusabiliy.\n",
    "4. To ask the users of our programs to tell us things, we take advantage of the `input()` function.\n",
    "5. Jupyter lab will be our best friend for writing code.\n",
    "6. Git and GitHub will make sure we never lose our work."
   ]
  },
  {
   "cell_type": "markdown",
   "metadata": {},
   "source": [
    "# 5 Feedback"
   ]
  },
  {
   "cell_type": "markdown",
   "metadata": {},
   "source": [
    "We would really appreciate it if you could please provide us with your feedback from this session by filling a couple of question.\n",
    "\n",
    "> ## [Survey](https://docs.google.com/forms/d/e/1FAIpQLSd_6aA9D0sDGy1Tyzq20MlGp0RqNOzce5hRb9Dz-YCc3p-5Fg/viewform?usp=sf_link)"
   ]
  },
  {
   "cell_type": "markdown",
   "metadata": {},
   "source": [
    "# 6 References"
   ]
  },
  {
   "cell_type": "markdown",
   "metadata": {},
   "source": [
    "Sweigart, Al. _Automate the Boring Stuff with Python: Practical Programming for Total Beginners_. No Starch Press, 2020.\n",
    "\n",
    "VanderPlas, Jake. _A Whirlwind Tour of Python_. O'Reilly, 2016."
   ]
  }
 ],
 "metadata": {
  "kernelspec": {
   "display_name": "Python 3",
   "language": "python",
   "name": "python3"
  },
  "language_info": {
   "codemirror_mode": {
    "name": "ipython",
    "version": 3
   },
   "file_extension": ".py",
   "mimetype": "text/x-python",
   "name": "python",
   "nbconvert_exporter": "python",
   "pygments_lexer": "ipython3",
   "version": "3.8.3"
  }
 },
 "nbformat": 4,
 "nbformat_minor": 4
}
